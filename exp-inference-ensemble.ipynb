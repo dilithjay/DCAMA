{
 "cells": [
  {
   "cell_type": "code",
   "execution_count": 1,
   "metadata": {},
   "outputs": [],
   "source": [
    "import random\n",
    "import torch\n",
    "from torch import nn\n",
    "import torch.nn.functional as F\n",
    "import torchvision.transforms.functional as TF\n",
    "import segmentation_models_pytorch as smp\n",
    "from torchgeo.models import resnet50, ResNet50_Weights\n",
    "from glob import glob\n",
    "import os\n",
    "import numpy as np\n",
    "from torchvision import transforms\n",
    "from torch.utils.data import Dataset, DataLoader\n",
    "import cv2\n",
    "from matplotlib import pyplot as plt\n",
    "from tqdm import tqdm\n",
    "import seaborn as sns\n",
    "from PIL import Image\n",
    "\n",
    "from data.dataset import FSSDataset\n",
    "from model.DCAMA import DCAMA\n",
    "\n",
    "torch.manual_seed(42)\n",
    "random.seed(42)"
   ]
  },
  {
   "cell_type": "code",
   "execution_count": 2,
   "metadata": {},
   "outputs": [],
   "source": [
    "out_mask_dir = \"outputs/out_masks\"\n",
    "full_mask_dir = \"outputs/full_masks\"\n",
    "out_contour_dir = \"outputs/out_contours\"\n",
    "\n",
    "os.makedirs(out_mask_dir, exist_ok=True)\n",
    "os.makedirs(full_mask_dir, exist_ok=True)\n",
    "os.makedirs(out_contour_dir, exist_ok=True)"
   ]
  },
  {
   "cell_type": "code",
   "execution_count": 3,
   "metadata": {},
   "outputs": [],
   "source": [
    "model_paths = [\n",
    "    \"logs/train/fold_0_0501_130849-exp1/best_model.pt\",\n",
    "    \"logs/train/fold_1_0429_030114-exp1/best_model.pt\",\n",
    "    \"logs/train/fold_2_0429_013102-exp1/best_model.pt\",\n",
    "    \"logs/train/fold_3_0430_221854-exp1/best_model.pt\",\n",
    "    \"logs/train/fold_4_0430_200305-exp1/best_model.pt\"\n",
    "]"
   ]
  },
  {
   "cell_type": "code",
   "execution_count": 4,
   "metadata": {},
   "outputs": [],
   "source": [
    "models = []\n",
    "for path in model_paths:\n",
    "    model = DCAMA('resnet50', True) \n",
    "    params = model.state_dict()\n",
    "    state_dict = torch.load(path, map_location='cpu')\n",
    "\n",
    "    for k1, k2 in zip(list(state_dict.keys()), params.keys()):\n",
    "        state_dict[k2] = state_dict.pop(k1)\n",
    "\n",
    "    model.load_state_dict(state_dict)\n",
    "    models.append(model)"
   ]
  },
  {
   "cell_type": "code",
   "execution_count": 5,
   "metadata": {},
   "outputs": [],
   "source": [
    "img_mean = [\n",
    "            452.36395548,\n",
    "            669.48234239,\n",
    "            409.39103663,\n",
    "            987.94130831,\n",
    "            2457.23722236,\n",
    "            2872.30241926,\n",
    "            3011.18175418,\n",
    "            3097.38396507,\n",
    "            1786.85631331,\n",
    "            929.30668321,\n",
    "            0\n",
    "        ]\n",
    "\n",
    "img_std = [\n",
    "            177.24756019,\n",
    "            144.58550688,\n",
    "            95.04011083,\n",
    "            224.49394865,\n",
    "            485.14565224,\n",
    "            580.77737498,\n",
    "            649.43248944,\n",
    "            622.79759571,\n",
    "            419.01506965,\n",
    "            298.34517013,\n",
    "            1\n",
    "        ]\n",
    "transform = transforms.Compose(\n",
    "    [transforms.ToTensor(), transforms.Normalize(mean=img_mean, std=img_std)]\n",
    ")"
   ]
  },
  {
   "cell_type": "code",
   "execution_count": 6,
   "metadata": {},
   "outputs": [],
   "source": [
    "def eval_expression(exp: list, image: np.ndarray = None):\n",
    "    expression = \"\"\n",
    "\n",
    "    for token in exp:\n",
    "        if token[0] == \"c\":\n",
    "            channel = eval(token[1:])\n",
    "            expression += f\"(image[{channel}] + 0.0001)\"  # To prevent divide by zero\n",
    "        elif token == \"sq\":\n",
    "            expression += \"**2\"\n",
    "        elif token == \"sqrt\":\n",
    "            expression += \"**0.5\"\n",
    "        elif token == \"=\":\n",
    "            break\n",
    "        else:\n",
    "            expression += token\n",
    "\n",
    "    return eval(expression)"
   ]
  },
  {
   "cell_type": "code",
   "execution_count": 7,
   "metadata": {},
   "outputs": [],
   "source": [
    "class InferenceDataset(Dataset):\n",
    "    def __init__(self, image_dir: str, expression: list = []):\n",
    "        super().__init__()\n",
    "        self.paths = glob(os.path.join(image_dir, \"*.npy\"))\n",
    "        self.expression = expression\n",
    "    \n",
    "    def __len__(self):\n",
    "        return len(self.paths)\n",
    "\n",
    "    def __getitem__(self, index):\n",
    "        path = self.paths[index]\n",
    "        img = np.load(path).astype(float)\n",
    "        if self.expression:\n",
    "            idx = eval_expression(self.expression, img)\n",
    "            max_z = 3\n",
    "            idx = (idx - idx.mean()) / idx.std()\n",
    "            idx = (np.clip(idx, -max_z, max_z) + max_z) / (2 * max_z)\n",
    "            img = np.concatenate([img[:10, :, :], idx[None, :, :]], axis=0)\n",
    "        else:\n",
    "            img = img[:10,:,:]\n",
    "        img = img.transpose(1, 2, 0)\n",
    "        \n",
    "        return transform(img).float(), path"
   ]
  },
  {
   "cell_type": "code",
   "execution_count": 8,
   "metadata": {},
   "outputs": [],
   "source": [
    "exp = [\"c1\", \"+\", \"c5\", \"/\", \"c7\", \"+\", \"c5\", \"/\", \"c8\", \"+\", \"c7\", \"-\", \"c2\", \"=\"]"
   ]
  },
  {
   "cell_type": "code",
   "execution_count": 9,
   "metadata": {},
   "outputs": [],
   "source": [
    "inference_dir = \"datasets/inference\"\n",
    "batch_size = 2\n",
    "dataset = InferenceDataset(inference_dir, exp)\n",
    "dataloader = DataLoader(dataset, batch_size, shuffle=False, num_workers=0)"
   ]
  },
  {
   "cell_type": "code",
   "execution_count": 10,
   "metadata": {},
   "outputs": [],
   "source": [
    "support_imgs_folds = []\n",
    "support_masks_folds = []\n",
    "for i in range(5):\n",
    "    img_paths = sorted(glob(os.path.join(\"datasets/Serp/\", str(i), \"train\", \"*.npy\")))\n",
    "    mask_paths = sorted(glob(os.path.join(\"datasets/Serp/\", str(i), \"annotations\", \"train\", \"*.npy\")))\n",
    "\n",
    "    support_imgs = []\n",
    "    for path in img_paths:\n",
    "        support_imgs.append(np.load(path).astype(float).transpose(1, 2, 0))\n",
    "\n",
    "    support_masks = []\n",
    "    for path in mask_paths:\n",
    "        support_masks.append(np.load(path).astype(float))\n",
    "        \n",
    "    support_imgs = torch.stack([transform(support_img) for support_img in support_imgs]).unsqueeze(0)\n",
    "    for midx, smask in enumerate(support_masks):\n",
    "        support_masks[midx] = F.interpolate(\n",
    "            torch.tensor(smask).unsqueeze(0).unsqueeze(0).float(), support_imgs.size()[-2:], mode=\"nearest\"\n",
    "        ).squeeze()\n",
    "        \n",
    "    support_masks = torch.stack(support_masks).unsqueeze(0)\n",
    "    \n",
    "    support_imgs_folds.append(support_imgs)\n",
    "    support_masks_folds.append(support_masks)"
   ]
  },
  {
   "cell_type": "code",
   "execution_count": 11,
   "metadata": {},
   "outputs": [],
   "source": [
    "n_shot = 5\n",
    "max_shot = 18"
   ]
  },
  {
   "cell_type": "code",
   "execution_count": 12,
   "metadata": {},
   "outputs": [
    {
     "name": "stderr",
     "output_type": "stream",
     "text": [
      "  0%|          | 13/2994 [07:19<27:59:03, 33.80s/it]\n"
     ]
    },
    {
     "ename": "FileNotFoundError",
     "evalue": "[Errno 2] No such file or directory: 'datasets/inference/10_8960_6528.npy'",
     "output_type": "error",
     "traceback": [
      "\u001b[0;31m---------------------------------------------------------------------------\u001b[0m",
      "\u001b[0;31mFileNotFoundError\u001b[0m                         Traceback (most recent call last)",
      "\u001b[1;32m/home/dilith/Projects/DCAMA/exp-inference-ensemble.ipynb Cell 12\u001b[0m in \u001b[0;36m<cell line: 3>\u001b[0;34m()\u001b[0m\n\u001b[1;32m      <a href='vscode-notebook-cell:/home/dilith/Projects/DCAMA/exp-inference-ensemble.ipynb#X15sZmlsZQ%3D%3D?line=0'>1</a>\u001b[0m pos_count \u001b[39m=\u001b[39m tot_count \u001b[39m=\u001b[39m \u001b[39m0\u001b[39m\n\u001b[1;32m      <a href='vscode-notebook-cell:/home/dilith/Projects/DCAMA/exp-inference-ensemble.ipynb#X15sZmlsZQ%3D%3D?line=1'>2</a>\u001b[0m out_dir \u001b[39m=\u001b[39m \u001b[39m\"\u001b[39m\u001b[39moutputs/out_masks/\u001b[39m\u001b[39m\"\u001b[39m\n\u001b[0;32m----> <a href='vscode-notebook-cell:/home/dilith/Projects/DCAMA/exp-inference-ensemble.ipynb#X15sZmlsZQ%3D%3D?line=2'>3</a>\u001b[0m \u001b[39mfor\u001b[39;00m query_img, paths \u001b[39min\u001b[39;00m tqdm(dataloader):\n\u001b[1;32m      <a href='vscode-notebook-cell:/home/dilith/Projects/DCAMA/exp-inference-ensemble.ipynb#X15sZmlsZQ%3D%3D?line=3'>4</a>\u001b[0m     indices \u001b[39m=\u001b[39m \u001b[39mlist\u001b[39m(\u001b[39mrange\u001b[39m(max_shot))\n\u001b[1;32m      <a href='vscode-notebook-cell:/home/dilith/Projects/DCAMA/exp-inference-ensemble.ipynb#X15sZmlsZQ%3D%3D?line=4'>5</a>\u001b[0m     random\u001b[39m.\u001b[39mshuffle(indices)\n",
      "File \u001b[0;32m~/anaconda3/envs/ml_env/lib/python3.9/site-packages/tqdm/std.py:1195\u001b[0m, in \u001b[0;36mtqdm.__iter__\u001b[0;34m(self)\u001b[0m\n\u001b[1;32m   1192\u001b[0m time \u001b[39m=\u001b[39m \u001b[39mself\u001b[39m\u001b[39m.\u001b[39m_time\n\u001b[1;32m   1194\u001b[0m \u001b[39mtry\u001b[39;00m:\n\u001b[0;32m-> 1195\u001b[0m     \u001b[39mfor\u001b[39;00m obj \u001b[39min\u001b[39;00m iterable:\n\u001b[1;32m   1196\u001b[0m         \u001b[39myield\u001b[39;00m obj\n\u001b[1;32m   1197\u001b[0m         \u001b[39m# Update and possibly print the progressbar.\u001b[39;00m\n\u001b[1;32m   1198\u001b[0m         \u001b[39m# Note: does not call self.update(1) for speed optimisation.\u001b[39;00m\n",
      "File \u001b[0;32m~/anaconda3/envs/ml_env/lib/python3.9/site-packages/torch/utils/data/dataloader.py:635\u001b[0m, in \u001b[0;36m_BaseDataLoaderIter.__next__\u001b[0;34m(self)\u001b[0m\n\u001b[1;32m    632\u001b[0m \u001b[39mif\u001b[39;00m \u001b[39mself\u001b[39m\u001b[39m.\u001b[39m_sampler_iter \u001b[39mis\u001b[39;00m \u001b[39mNone\u001b[39;00m:\n\u001b[1;32m    633\u001b[0m     \u001b[39m# TODO(https://github.com/pytorch/pytorch/issues/76750)\u001b[39;00m\n\u001b[1;32m    634\u001b[0m     \u001b[39mself\u001b[39m\u001b[39m.\u001b[39m_reset()  \u001b[39m# type: ignore[call-arg]\u001b[39;00m\n\u001b[0;32m--> 635\u001b[0m data \u001b[39m=\u001b[39m \u001b[39mself\u001b[39;49m\u001b[39m.\u001b[39;49m_next_data()\n\u001b[1;32m    636\u001b[0m \u001b[39mself\u001b[39m\u001b[39m.\u001b[39m_num_yielded \u001b[39m+\u001b[39m\u001b[39m=\u001b[39m \u001b[39m1\u001b[39m\n\u001b[1;32m    637\u001b[0m \u001b[39mif\u001b[39;00m \u001b[39mself\u001b[39m\u001b[39m.\u001b[39m_dataset_kind \u001b[39m==\u001b[39m _DatasetKind\u001b[39m.\u001b[39mIterable \u001b[39mand\u001b[39;00m \\\n\u001b[1;32m    638\u001b[0m         \u001b[39mself\u001b[39m\u001b[39m.\u001b[39m_IterableDataset_len_called \u001b[39mis\u001b[39;00m \u001b[39mnot\u001b[39;00m \u001b[39mNone\u001b[39;00m \u001b[39mand\u001b[39;00m \\\n\u001b[1;32m    639\u001b[0m         \u001b[39mself\u001b[39m\u001b[39m.\u001b[39m_num_yielded \u001b[39m>\u001b[39m \u001b[39mself\u001b[39m\u001b[39m.\u001b[39m_IterableDataset_len_called:\n",
      "File \u001b[0;32m~/anaconda3/envs/ml_env/lib/python3.9/site-packages/torch/utils/data/dataloader.py:679\u001b[0m, in \u001b[0;36m_SingleProcessDataLoaderIter._next_data\u001b[0;34m(self)\u001b[0m\n\u001b[1;32m    677\u001b[0m \u001b[39mdef\u001b[39;00m \u001b[39m_next_data\u001b[39m(\u001b[39mself\u001b[39m):\n\u001b[1;32m    678\u001b[0m     index \u001b[39m=\u001b[39m \u001b[39mself\u001b[39m\u001b[39m.\u001b[39m_next_index()  \u001b[39m# may raise StopIteration\u001b[39;00m\n\u001b[0;32m--> 679\u001b[0m     data \u001b[39m=\u001b[39m \u001b[39mself\u001b[39;49m\u001b[39m.\u001b[39;49m_dataset_fetcher\u001b[39m.\u001b[39;49mfetch(index)  \u001b[39m# may raise StopIteration\u001b[39;00m\n\u001b[1;32m    680\u001b[0m     \u001b[39mif\u001b[39;00m \u001b[39mself\u001b[39m\u001b[39m.\u001b[39m_pin_memory:\n\u001b[1;32m    681\u001b[0m         data \u001b[39m=\u001b[39m _utils\u001b[39m.\u001b[39mpin_memory\u001b[39m.\u001b[39mpin_memory(data, \u001b[39mself\u001b[39m\u001b[39m.\u001b[39m_pin_memory_device)\n",
      "File \u001b[0;32m~/anaconda3/envs/ml_env/lib/python3.9/site-packages/torch/utils/data/_utils/fetch.py:51\u001b[0m, in \u001b[0;36m_MapDatasetFetcher.fetch\u001b[0;34m(self, possibly_batched_index)\u001b[0m\n\u001b[1;32m     49\u001b[0m         data \u001b[39m=\u001b[39m \u001b[39mself\u001b[39m\u001b[39m.\u001b[39mdataset\u001b[39m.\u001b[39m__getitems__(possibly_batched_index)\n\u001b[1;32m     50\u001b[0m     \u001b[39melse\u001b[39;00m:\n\u001b[0;32m---> 51\u001b[0m         data \u001b[39m=\u001b[39m [\u001b[39mself\u001b[39m\u001b[39m.\u001b[39mdataset[idx] \u001b[39mfor\u001b[39;00m idx \u001b[39min\u001b[39;00m possibly_batched_index]\n\u001b[1;32m     52\u001b[0m \u001b[39melse\u001b[39;00m:\n\u001b[1;32m     53\u001b[0m     data \u001b[39m=\u001b[39m \u001b[39mself\u001b[39m\u001b[39m.\u001b[39mdataset[possibly_batched_index]\n",
      "File \u001b[0;32m~/anaconda3/envs/ml_env/lib/python3.9/site-packages/torch/utils/data/_utils/fetch.py:51\u001b[0m, in \u001b[0;36m<listcomp>\u001b[0;34m(.0)\u001b[0m\n\u001b[1;32m     49\u001b[0m         data \u001b[39m=\u001b[39m \u001b[39mself\u001b[39m\u001b[39m.\u001b[39mdataset\u001b[39m.\u001b[39m__getitems__(possibly_batched_index)\n\u001b[1;32m     50\u001b[0m     \u001b[39melse\u001b[39;00m:\n\u001b[0;32m---> 51\u001b[0m         data \u001b[39m=\u001b[39m [\u001b[39mself\u001b[39;49m\u001b[39m.\u001b[39;49mdataset[idx] \u001b[39mfor\u001b[39;00m idx \u001b[39min\u001b[39;00m possibly_batched_index]\n\u001b[1;32m     52\u001b[0m \u001b[39melse\u001b[39;00m:\n\u001b[1;32m     53\u001b[0m     data \u001b[39m=\u001b[39m \u001b[39mself\u001b[39m\u001b[39m.\u001b[39mdataset[possibly_batched_index]\n",
      "\u001b[1;32m/home/dilith/Projects/DCAMA/exp-inference-ensemble.ipynb Cell 12\u001b[0m in \u001b[0;36mInferenceDataset.__getitem__\u001b[0;34m(self, index)\u001b[0m\n\u001b[1;32m     <a href='vscode-notebook-cell:/home/dilith/Projects/DCAMA/exp-inference-ensemble.ipynb#X15sZmlsZQ%3D%3D?line=9'>10</a>\u001b[0m \u001b[39mdef\u001b[39;00m \u001b[39m__getitem__\u001b[39m(\u001b[39mself\u001b[39m, index):\n\u001b[1;32m     <a href='vscode-notebook-cell:/home/dilith/Projects/DCAMA/exp-inference-ensemble.ipynb#X15sZmlsZQ%3D%3D?line=10'>11</a>\u001b[0m     path \u001b[39m=\u001b[39m \u001b[39mself\u001b[39m\u001b[39m.\u001b[39mpaths[index]\n\u001b[0;32m---> <a href='vscode-notebook-cell:/home/dilith/Projects/DCAMA/exp-inference-ensemble.ipynb#X15sZmlsZQ%3D%3D?line=11'>12</a>\u001b[0m     img \u001b[39m=\u001b[39m np\u001b[39m.\u001b[39;49mload(path)\u001b[39m.\u001b[39mastype(\u001b[39mfloat\u001b[39m)\n\u001b[1;32m     <a href='vscode-notebook-cell:/home/dilith/Projects/DCAMA/exp-inference-ensemble.ipynb#X15sZmlsZQ%3D%3D?line=12'>13</a>\u001b[0m     \u001b[39mif\u001b[39;00m \u001b[39mself\u001b[39m\u001b[39m.\u001b[39mexpression:\n\u001b[1;32m     <a href='vscode-notebook-cell:/home/dilith/Projects/DCAMA/exp-inference-ensemble.ipynb#X15sZmlsZQ%3D%3D?line=13'>14</a>\u001b[0m         idx \u001b[39m=\u001b[39m eval_expression(\u001b[39mself\u001b[39m\u001b[39m.\u001b[39mexpression, img)\n",
      "File \u001b[0;32m~/anaconda3/envs/ml_env/lib/python3.9/site-packages/numpy/lib/npyio.py:405\u001b[0m, in \u001b[0;36mload\u001b[0;34m(file, mmap_mode, allow_pickle, fix_imports, encoding, max_header_size)\u001b[0m\n\u001b[1;32m    403\u001b[0m     own_fid \u001b[39m=\u001b[39m \u001b[39mFalse\u001b[39;00m\n\u001b[1;32m    404\u001b[0m \u001b[39melse\u001b[39;00m:\n\u001b[0;32m--> 405\u001b[0m     fid \u001b[39m=\u001b[39m stack\u001b[39m.\u001b[39menter_context(\u001b[39mopen\u001b[39;49m(os_fspath(file), \u001b[39m\"\u001b[39;49m\u001b[39mrb\u001b[39;49m\u001b[39m\"\u001b[39;49m))\n\u001b[1;32m    406\u001b[0m     own_fid \u001b[39m=\u001b[39m \u001b[39mTrue\u001b[39;00m\n\u001b[1;32m    408\u001b[0m \u001b[39m# Code to distinguish from NumPy binary files and pickles.\u001b[39;00m\n",
      "\u001b[0;31mFileNotFoundError\u001b[0m: [Errno 2] No such file or directory: 'datasets/inference/10_8960_6528.npy'"
     ]
    }
   ],
   "source": [
    "pos_count = tot_count = 0\n",
    "out_dir = \"outputs/out_masks/\"\n",
    "for query_img, paths in tqdm(dataloader):\n",
    "    indices = list(range(max_shot))\n",
    "    random.shuffle(indices)\n",
    "    indices = indices[:n_shot]\n",
    "    mask = np.zeros((256, 256))\n",
    "    for i, model in enumerate(models):\n",
    "        batch = {\n",
    "            \"query_img\": query_img,\n",
    "            \"support_imgs\": torch.stack([support_imgs_folds[i][:, indices]] * batch_size).squeeze().float(),\n",
    "            \"support_masks\": torch.stack([support_masks_folds[i][:, indices]] * batch_size).squeeze().float(),\n",
    "            \"org_query_imsize\": [torch.tensor([256]), torch.tensor([256]), torch.tensor([11])]\n",
    "        }\n",
    "        new_mask = model.predict_mask_nshot(batch, nshot=n_shot).squeeze().cpu().numpy()\n",
    "    mask = mask > 2\n",
    "    pos_count += mask.sum().item()\n",
    "    tot_count += mask.shape[0] ** 2\n",
    "    for j, path in enumerate(paths):\n",
    "        np.save(os.path.join(out_dir, os.path.basename(path)), mask[j])"
   ]
  },
  {
   "cell_type": "code",
   "execution_count": 15,
   "metadata": {},
   "outputs": [
    {
     "data": {
      "text/plain": [
       "0.0124908447265625"
      ]
     },
     "execution_count": 15,
     "metadata": {},
     "output_type": "execute_result"
    }
   ],
   "source": [
    "pos_count / tot_count"
   ]
  },
  {
   "cell_type": "code",
   "execution_count": 21,
   "metadata": {},
   "outputs": [],
   "source": [
    "mask_dir = \"outputs/out_masks\"\n",
    "out_dir = \"outputs/full_masks\"\n",
    "tif_max_size = 11_000\n",
    "img_size = 256"
   ]
  },
  {
   "cell_type": "code",
   "execution_count": 22,
   "metadata": {},
   "outputs": [],
   "source": [
    "paths = sorted(glob(os.path.join(mask_dir, \"*.npy\")))\n",
    "prev_region = None\n",
    "full_mask = np.zeros((tif_max_size, tif_max_size), dtype=bool)\n",
    "for path in paths:\n",
    "    # <region>_<x>_<y>.npy => 00_2342_6453.npy\n",
    "    name, _ = os.path.splitext(os.path.basename(path))\n",
    "    region, x, y = name.split(\"_\")\n",
    "    x, y = int(x), int(y)\n",
    "    \n",
    "    if prev_region != None and prev_region != region:\n",
    "        np.save(os.path.join(out_dir, f\"{prev_region}.npy\"), full_mask)\n",
    "        full_mask = np.zeros((tif_max_size, tif_max_size), dtype=bool)\n",
    "    prev_region = region\n",
    "    \n",
    "    mask = np.load(path)\n",
    "    full_mask[x: x + img_size, y: y + img_size] = np.logical_or(full_mask[x: x + img_size, y: y + img_size], mask)\n",
    "\n",
    "np.save(os.path.join(out_dir, f\"{region}.npy\"), full_mask)"
   ]
  },
  {
   "cell_type": "code",
   "execution_count": 23,
   "metadata": {},
   "outputs": [],
   "source": [
    "import cv2\n",
    "import pickle"
   ]
  },
  {
   "cell_type": "code",
   "execution_count": 24,
   "metadata": {},
   "outputs": [],
   "source": [
    "out_dir = \"outputs/full_masks\"\n",
    "out_contour_dir = \"outputs/out_contours\""
   ]
  },
  {
   "cell_type": "code",
   "execution_count": 25,
   "metadata": {},
   "outputs": [
    {
     "name": "stdout",
     "output_type": "stream",
     "text": [
      "421 421\n",
      "611 611\n",
      "782 782\n",
      "2522 2522\n"
     ]
    }
   ],
   "source": [
    "tif_paths = sorted(glob(os.path.join(out_dir, \"*.npy\")))\n",
    "for path in tif_paths:\n",
    "    tif_name, _ = os.path.splitext(os.path.basename(path))\n",
    "    tif_mask = np.load(path).astype('uint8')\n",
    "    \n",
    "    contours, hierarchy = cv2.findContours(tif_mask, cv2.RETR_EXTERNAL, cv2.CHAIN_APPROX_NONE)\n",
    "    if hierarchy is None:\n",
    "        continue\n",
    "    hierarchy = hierarchy.squeeze()\n",
    "    contours_new = []\n",
    "    for i, contour in enumerate(contours):\n",
    "        if hierarchy[i][3] == -1:\n",
    "            contours_new.append(contour)\n",
    "    print(len(contours), len(contours_new))\n",
    "    with open(os.path.join(out_contour_dir, f\"{tif_name}.pkl\"), 'wb') as fp:\n",
    "        pickle.dump(contours_new, fp)"
   ]
  },
  {
   "cell_type": "code",
   "execution_count": null,
   "metadata": {},
   "outputs": [],
   "source": []
  }
 ],
 "metadata": {
  "kernelspec": {
   "display_name": "ml_env",
   "language": "python",
   "name": "python3"
  },
  "language_info": {
   "codemirror_mode": {
    "name": "ipython",
    "version": 3
   },
   "file_extension": ".py",
   "mimetype": "text/x-python",
   "name": "python",
   "nbconvert_exporter": "python",
   "pygments_lexer": "ipython3",
   "version": "3.9.0"
  },
  "orig_nbformat": 4,
  "vscode": {
   "interpreter": {
    "hash": "e60a13762b311d75094e19903d9f763963a5a049301dac08add2508c5be7c1e7"
   }
  }
 },
 "nbformat": 4,
 "nbformat_minor": 2
}
