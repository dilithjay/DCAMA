{
 "cells": [
  {
   "cell_type": "code",
   "execution_count": 1,
   "metadata": {},
   "outputs": [],
   "source": [
    "import random\n",
    "import torch\n",
    "from torch import nn\n",
    "import torch.nn.functional as F\n",
    "import torchvision.transforms.functional as TF\n",
    "import segmentation_models_pytorch as smp\n",
    "from torchgeo.models import resnet50, ResNet50_Weights\n",
    "from glob import glob\n",
    "import os\n",
    "import numpy as np\n",
    "from torchvision import transforms\n",
    "from torch.utils.data import Dataset, DataLoader\n",
    "import cv2\n",
    "from matplotlib import pyplot as plt\n",
    "from tqdm import tqdm\n",
    "import seaborn as sns\n",
    "from PIL import Image\n",
    "\n",
    "from data.dataset import FSSDataset\n",
    "from model.DCAMA import DCAMA\n",
    "\n",
    "torch.manual_seed(42)\n",
    "random.seed(42)"
   ]
  },
  {
   "cell_type": "code",
   "execution_count": 3,
   "metadata": {},
   "outputs": [],
   "source": [
    "out_mask_dir = \"outputs/out_masks\"\n",
    "full_mask_dir = \"outputs/full_masks\"\n",
    "out_contour_dir = \"outputs/out_contours\"\n",
    "\n",
    "os.makedirs(out_mask_dir, exist_ok=True)\n",
    "os.makedirs(full_mask_dir, exist_ok=True)\n",
    "os.makedirs(out_contour_dir, exist_ok=True)"
   ]
  },
  {
   "cell_type": "code",
   "execution_count": 5,
   "metadata": {},
   "outputs": [
    {
     "data": {
      "text/plain": [
       "<All keys matched successfully>"
      ]
     },
     "execution_count": 5,
     "metadata": {},
     "output_type": "execute_result"
    }
   ],
   "source": [
    "model = DCAMA('resnet50', True) \n",
    "params = model.state_dict()\n",
    "state_dict = torch.load(\"logs/train/fold_1_0429_030114-exp1/best_model.pt\", map_location='cpu')\n",
    "\n",
    "for k1, k2 in zip(list(state_dict.keys()), params.keys()):\n",
    "    state_dict[k2] = state_dict.pop(k1)\n",
    "\n",
    "model.load_state_dict(state_dict)"
   ]
  },
  {
   "cell_type": "code",
   "execution_count": 6,
   "metadata": {},
   "outputs": [],
   "source": [
    "img_mean = [\n",
    "            452.36395548,\n",
    "            669.48234239,\n",
    "            409.39103663,\n",
    "            987.94130831,\n",
    "            2457.23722236,\n",
    "            2872.30241926,\n",
    "            3011.18175418,\n",
    "            3097.38396507,\n",
    "            1786.85631331,\n",
    "            929.30668321,\n",
    "            0\n",
    "        ]\n",
    "\n",
    "img_std = [\n",
    "            177.24756019,\n",
    "            144.58550688,\n",
    "            95.04011083,\n",
    "            224.49394865,\n",
    "            485.14565224,\n",
    "            580.77737498,\n",
    "            649.43248944,\n",
    "            622.79759571,\n",
    "            419.01506965,\n",
    "            298.34517013,\n",
    "            1\n",
    "        ]\n",
    "transform = transforms.Compose(\n",
    "    [transforms.ToTensor(), transforms.Normalize(mean=img_mean, std=img_std)]\n",
    ")"
   ]
  },
  {
   "cell_type": "code",
   "execution_count": 20,
   "metadata": {},
   "outputs": [],
   "source": [
    "def eval_expression(exp: list, image: np.ndarray = None):\n",
    "    expression = \"\"\n",
    "\n",
    "    for token in exp:\n",
    "        if token[0] == \"c\":\n",
    "            channel = eval(token[1:])\n",
    "            expression += f\"(image[{channel}] + 0.0001)\"  # To prevent divide by zero\n",
    "        elif token == \"sq\":\n",
    "            expression += \"**2\"\n",
    "        elif token == \"sqrt\":\n",
    "            expression += \"**0.5\"\n",
    "        elif token == \"=\":\n",
    "            break\n",
    "        else:\n",
    "            expression += token\n",
    "\n",
    "    return eval(expression)"
   ]
  },
  {
   "cell_type": "code",
   "execution_count": 25,
   "metadata": {},
   "outputs": [],
   "source": [
    "class InferenceDataset(Dataset):\n",
    "    def __init__(self, image_dir: str, expression: list = []):\n",
    "        super().__init__()\n",
    "        self.paths = glob(os.path.join(image_dir, \"*.npy\"))\n",
    "        self.expression = expression\n",
    "    \n",
    "    def __len__(self):\n",
    "        return len(self.paths)\n",
    "\n",
    "    def __getitem__(self, index):\n",
    "        path = self.paths[index]\n",
    "        img = np.load(path).astype(float)\n",
    "        if self.expression:\n",
    "            idx = eval_expression(self.expression, img)\n",
    "            max_z = 3\n",
    "            idx = (idx - idx.mean()) / idx.std()\n",
    "            idx = (np.clip(idx, -max_z, max_z) + max_z) / (2 * max_z)\n",
    "            img = np.concatenate([img[:10, :, :], idx[None, :, :]], axis=0)\n",
    "        else:\n",
    "            img = img[:10,:,:]\n",
    "        img = img.transpose(1, 2, 0)\n",
    "        \n",
    "        return transform(img).float(), path"
   ]
  },
  {
   "cell_type": "code",
   "execution_count": 26,
   "metadata": {},
   "outputs": [],
   "source": [
    "exp = [\"c1\", \"+\", \"c5\", \"/\", \"c7\", \"+\", \"c5\", \"/\", \"c8\", \"+\", \"c7\", \"-\", \"c2\", \"=\"]"
   ]
  },
  {
   "cell_type": "code",
   "execution_count": 27,
   "metadata": {},
   "outputs": [],
   "source": [
    "inference_dir = \"datasets/inference\"\n",
    "dataset = InferenceDataset(inference_dir, exp)\n",
    "dataloader = DataLoader(dataset, 8, shuffle=False, num_workers=0)"
   ]
  },
  {
   "cell_type": "code",
   "execution_count": 29,
   "metadata": {},
   "outputs": [],
   "source": [
    "img_paths = sorted(glob(os.path.join(\"datasets/Serp/4\", \"*\", \"*.npy\")))\n",
    "mask_paths = sorted(glob(os.path.join(\"datasets/Serp/4\", \"*\", \"*\", \"*.npy\")))\n",
    "\n",
    "support_imgs = []\n",
    "for path in img_paths:\n",
    "    support_imgs.append(np.load(path).astype(float).transpose(1, 2, 0))\n",
    "\n",
    "support_masks = []\n",
    "for path in mask_paths:\n",
    "    support_masks.append(np.load(path).astype(float))\n",
    "    \n",
    "support_imgs = torch.stack([transform(support_img) for support_img in support_imgs]).unsqueeze(0)\n",
    "for midx, smask in enumerate(support_masks):\n",
    "    support_masks[midx] = F.interpolate(\n",
    "        torch.tensor(smask).unsqueeze(0).unsqueeze(0).float(), support_imgs.size()[-2:], mode=\"nearest\"\n",
    "    ).squeeze()\n",
    "    \n",
    "support_masks = torch.stack(support_masks).unsqueeze(0)"
   ]
  },
  {
   "cell_type": "code",
   "execution_count": 30,
   "metadata": {},
   "outputs": [
    {
     "name": "stderr",
     "output_type": "stream",
     "text": [
      "100%|██████████| 3495/3495 [55:35<00:00,  1.05it/s] \n"
     ]
    }
   ],
   "source": [
    "pos_count = tot_count = 0\n",
    "out_dir = \"outputs/out_masks/\"\n",
    "for query_img, path in tqdm(dataset):\n",
    "    batch = {\n",
    "        \"query_img\": query_img.unsqueeze(0),\n",
    "        \"support_imgs\": support_imgs.float(),\n",
    "        \"support_masks\": support_masks.float(),\n",
    "        \"org_query_imsize\": [torch.tensor([256]), torch.tensor([256]), torch.tensor([11])]\n",
    "    }\n",
    "    mask = model.predict_mask_nshot(batch, nshot=len(support_masks)).squeeze()\n",
    "    pos_count += mask.sum().item()\n",
    "    tot_count += mask.shape[0] ** 2\n",
    "    np.save(os.path.join(out_dir, os.path.basename(path)), mask.cpu().numpy())"
   ]
  },
  {
   "cell_type": "code",
   "execution_count": 34,
   "metadata": {},
   "outputs": [
    {
     "data": {
      "text/plain": [
       "0.024122844472293008"
      ]
     },
     "execution_count": 34,
     "metadata": {},
     "output_type": "execute_result"
    }
   ],
   "source": [
    "pos_count / tot_count"
   ]
  },
  {
   "cell_type": "code",
   "execution_count": 35,
   "metadata": {},
   "outputs": [],
   "source": [
    "mask_dir = \"outputs/out_masks\"\n",
    "out_dir = \"outputs/full_masks\"\n",
    "tif_max_size = 11_000\n",
    "img_size = 256"
   ]
  },
  {
   "cell_type": "code",
   "execution_count": 38,
   "metadata": {},
   "outputs": [
    {
     "name": "stdout",
     "output_type": "stream",
     "text": [
      "58284\n",
      "122648\n",
      "134773\n",
      "1732896\n"
     ]
    }
   ],
   "source": [
    "paths = sorted(glob(os.path.join(mask_dir, \"*.npy\")))\n",
    "prev_region = None\n",
    "full_mask = np.zeros((tif_max_size, tif_max_size), dtype=bool)\n",
    "for path in paths:\n",
    "    # <region>_<x>_<y>.npy => 00_2342_6453.npy\n",
    "    name, _ = os.path.splitext(os.path.basename(path))\n",
    "    region, x, y = name.split(\"_\")\n",
    "    x, y = int(x), int(y)\n",
    "    \n",
    "    if prev_region != None and prev_region != region:\n",
    "        np.save(os.path.join(out_dir, f\"{prev_region}.npy\"), full_mask)\n",
    "        full_mask = np.zeros((tif_max_size, tif_max_size), dtype=bool)\n",
    "    prev_region = region\n",
    "    \n",
    "    mask = np.load(path)\n",
    "    full_mask[x: x + img_size, y: y + img_size] = np.logical_or(full_mask[x: x + img_size, y: y + img_size], mask)\n",
    "\n",
    "np.save(os.path.join(out_dir, f\"{region}.npy\"), full_mask)"
   ]
  },
  {
   "cell_type": "code",
   "execution_count": 37,
   "metadata": {},
   "outputs": [
    {
     "data": {
      "text/plain": [
       "False"
      ]
     },
     "execution_count": 37,
     "metadata": {},
     "output_type": "execute_result"
    }
   ],
   "source": [
    "full_mask.max()"
   ]
  },
  {
   "cell_type": "code",
   "execution_count": 39,
   "metadata": {},
   "outputs": [],
   "source": [
    "import cv2\n",
    "import pickle"
   ]
  },
  {
   "cell_type": "code",
   "execution_count": 40,
   "metadata": {},
   "outputs": [],
   "source": [
    "out_dir = \"outputs/full_masks\"\n",
    "out_contour_dir = \"outputs/out_contours\""
   ]
  },
  {
   "cell_type": "code",
   "execution_count": 41,
   "metadata": {},
   "outputs": [
    {
     "name": "stdout",
     "output_type": "stream",
     "text": [
      "179 179\n",
      "429 429\n",
      "323 323\n",
      "1711 1711\n"
     ]
    }
   ],
   "source": [
    "tif_paths = sorted(glob(os.path.join(out_dir, \"*.npy\")))\n",
    "for path in tif_paths:\n",
    "    tif_name, _ = os.path.splitext(os.path.basename(path))\n",
    "    tif_mask = np.load(path).astype('uint8')\n",
    "    \n",
    "    contours, hierarchy = cv2.findContours(tif_mask, cv2.RETR_EXTERNAL, cv2.CHAIN_APPROX_NONE)\n",
    "    if hierarchy is None:\n",
    "        continue\n",
    "    hierarchy = hierarchy.squeeze()\n",
    "    contours_new = []\n",
    "    for i, contour in enumerate(contours):\n",
    "        if hierarchy[i][3] == -1:\n",
    "            contours_new.append(contour)\n",
    "    print(len(contours), len(contours_new))\n",
    "    with open(os.path.join(out_contour_dir, f\"{tif_name}.pkl\"), 'wb') as fp:\n",
    "        pickle.dump(contours_new, fp)"
   ]
  },
  {
   "cell_type": "code",
   "execution_count": null,
   "metadata": {},
   "outputs": [],
   "source": []
  }
 ],
 "metadata": {
  "kernelspec": {
   "display_name": "ml_env",
   "language": "python",
   "name": "python3"
  },
  "language_info": {
   "codemirror_mode": {
    "name": "ipython",
    "version": 3
   },
   "file_extension": ".py",
   "mimetype": "text/x-python",
   "name": "python",
   "nbconvert_exporter": "python",
   "pygments_lexer": "ipython3",
   "version": "3.9.0"
  },
  "orig_nbformat": 4,
  "vscode": {
   "interpreter": {
    "hash": "e60a13762b311d75094e19903d9f763963a5a049301dac08add2508c5be7c1e7"
   }
  }
 },
 "nbformat": 4,
 "nbformat_minor": 2
}
